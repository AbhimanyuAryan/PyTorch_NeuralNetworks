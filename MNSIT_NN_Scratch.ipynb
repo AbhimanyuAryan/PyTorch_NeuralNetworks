{
  "nbformat": 4,
  "nbformat_minor": 0,
  "metadata": {
    "colab": {
      "name": "MNSIT NN Scratch.ipynb",
      "version": "0.3.2",
      "provenance": [],
      "include_colab_link": true
    },
    "kernelspec": {
      "name": "python3",
      "display_name": "Python 3"
    }
  },
  "cells": [
    {
      "cell_type": "markdown",
      "metadata": {
        "id": "view-in-github",
        "colab_type": "text"
      },
      "source": [
        "<a href=\"https://colab.research.google.com/github/AbhimanyuAryan/PyTorch_NeuralNetworks/blob/master/MNSIT_NN_Scratch.ipynb\" target=\"_parent\"><img src=\"https://colab.research.google.com/assets/colab-badge.svg\" alt=\"Open In Colab\"/></a>"
      ]
    },
    {
      "metadata": {
        "id": "SOHMkeLgnovC",
        "colab_type": "code",
        "colab": {}
      },
      "cell_type": "code",
      "source": [
        "import torch"
      ],
      "execution_count": 0,
      "outputs": []
    },
    {
      "metadata": {
        "id": "u3u7EPH1n4gO",
        "colab_type": "text"
      },
      "cell_type": "markdown",
      "source": [
        "# Downloading Data and Setting up"
      ]
    },
    {
      "metadata": {
        "id": "8QKdp4t_n2hI",
        "colab_type": "code",
        "colab": {}
      },
      "cell_type": "code",
      "source": [
        "from pathlib import Path\n",
        "import requests\n",
        "\n",
        "DATA_PATH = Path(\"data\")\n",
        "PATH = DATA_PATH / \"mnist\"\n",
        "\n",
        "PATH.mkdir(parents=True, exist_ok=True)\n",
        "\n",
        "URL = \"http://deeplearning.net/data/mnist/\"\n",
        "FILENAME = \"mnist.pkl.gz\"\n",
        "\n",
        "if not (PATH / FILENAME).exists():\n",
        "        content = requests.get(URL + FILENAME).content\n",
        "        (PATH / FILENAME).open(\"wb\").write(content)"
      ],
      "execution_count": 0,
      "outputs": []
    },
    {
      "metadata": {
        "id": "Pew8fOeAoHU1",
        "colab_type": "text"
      },
      "cell_type": "markdown",
      "source": [
        "dataset is numpy array format and has been stored using pickle, a python-specific format for serializing data"
      ]
    },
    {
      "metadata": {
        "id": "ManC1vERnsyA",
        "colab_type": "code",
        "colab": {}
      },
      "cell_type": "code",
      "source": [
        "import pickle\n",
        "import gzip\n",
        "\n",
        "with gzip.open((PATH / FILENAME).as_posix(), \"rb\") as f:\n",
        "        ((x_train, y_train), (x_valid, y_valid), _) = pickle.load(f, encoding=\"latin-1\")"
      ],
      "execution_count": 0,
      "outputs": []
    },
    {
      "metadata": {
        "id": "kow5ioHlobNX",
        "colab_type": "text"
      },
      "cell_type": "markdown",
      "source": [
        "Each image is 28x28 and is being stored as a flattened row of length 784(=28x28); we need to reshape it to matrix"
      ]
    },
    {
      "metadata": {
        "id": "JvTCnepooSmk",
        "colab_type": "code",
        "colab": {}
      },
      "cell_type": "code",
      "source": [
        "from matplotlib import pyplot\n",
        "import numpy as np"
      ],
      "execution_count": 0,
      "outputs": []
    },
    {
      "metadata": {
        "id": "zEkfUyX3orTr",
        "colab_type": "code",
        "colab": {
          "base_uri": "https://localhost:8080/",
          "height": 364
        },
        "outputId": "c0ad13f4-7cdf-4bb8-94d7-39c947026f2f"
      },
      "cell_type": "code",
      "source": [
        "# imshow: Display an image, i.e. data on a 2D regular raster\n",
        "pyplot.imshow(x_train[0].reshape((28, 28)), cmap=\"gray\")\n",
        "print(x_train.shape)"
      ],
      "execution_count": 8,
      "outputs": [
        {
          "output_type": "stream",
          "text": [
            "(50000, 784)\n"
          ],
          "name": "stdout"
        },
        {
          "output_type": "display_data",
          "data": {
            "image/png": "[encoded data removed]",
            "text/plain": [
              "<Figure size 576x396 with 1 Axes>"
            ]
          },
          "metadata": {
            "tags": []
          }
        }
      ]
    },
    {
      "metadata": {
        "id": "Wey1taaio-j7",
        "colab_type": "text"
      },
      "cell_type": "markdown",
      "source": [
        "Pytorch uses `torch.tensor`, rather than numpy arrays(matrix), so we need to convert our data"
      ]
    },
    {
      "metadata": {
        "id": "bKQ_b6mYout0",
        "colab_type": "code",
        "colab": {}
      },
      "cell_type": "code",
      "source": [
        "# map takes a function or method. Here torch.tensor will convert our array in 2D tensor\n",
        "x_train, y_train, x_valid, y_valid = map(torch.tensor, (x_train, y_train, x_valid, y_valid)) "
      ],
      "execution_count": 0,
      "outputs": []
    },
    {
      "metadata": {
        "id": "KCVfldcgpVMI",
        "colab_type": "code",
        "colab": {
          "base_uri": "https://localhost:8080/",
          "height": 170
        },
        "outputId": "bfec1327-5a56-4c56-a951-1a0af51d08c9"
      },
      "cell_type": "code",
      "source": [
        "n, c = x_train.shape\n",
        "x_train, x_train.shape, y_train.min(), y_train.max()\n",
        "print(x_train, y_train)\n",
        "print(x_train.shape)\n",
        "print(y_train.min(), y_train.max())"
      ],
      "execution_count": 11,
      "outputs": [
        {
          "output_type": "stream",
          "text": [
            "tensor([[0., 0., 0.,  ..., 0., 0., 0.],\n",
            "        [0., 0., 0.,  ..., 0., 0., 0.],\n",
            "        [0., 0., 0.,  ..., 0., 0., 0.],\n",
            "        ...,\n",
            "        [0., 0., 0.,  ..., 0., 0., 0.],\n",
            "        [0., 0., 0.,  ..., 0., 0., 0.],\n",
            "        [0., 0., 0.,  ..., 0., 0., 0.]]) tensor([5, 0, 4,  ..., 8, 4, 8])\n",
            "torch.Size([50000, 784])\n",
            "tensor(0) tensor(9)\n"
          ],
          "name": "stdout"
        }
      ]
    },
    {
      "metadata": {
        "id": "sxCc_id3p3ZQ",
        "colab_type": "text"
      },
      "cell_type": "markdown",
      "source": [
        "## Neural Network from Scratch using `torch.nn`"
      ]
    },
    {
      "metadata": {
        "id": "vXn1PpG4rHRO",
        "colab_type": "text"
      },
      "cell_type": "markdown",
      "source": [
        "##### We are initializing weights here using [Xavier Initialisation](http://proceedings.mlr.press/v9/glorot10a/glorot10a.pdf) (by multiplying with 1/sqrt(n))"
      ]
    },
    {
      "metadata": {
        "id": "Rfa9_5z0pWOp",
        "colab_type": "code",
        "colab": {}
      },
      "cell_type": "code",
      "source": [
        "import math\n",
        "\n",
        "weights = torch.randn(784, 10) / math.sqrt(784)\n",
        "weights.requires_grad_()\n",
        "bias = torch.zeros(10, requires_grad=True)"
      ],
      "execution_count": 0,
      "outputs": []
    },
    {
      "metadata": {
        "id": "M5l1p-oarbv3",
        "colab_type": "code",
        "colab": {}
      },
      "cell_type": "code",
      "source": [
        "# thanks to pytorch's ability to calculate gradient(differentiation) we can use any standard python function as a model\n",
        "# we are going to createe a simple matrix multipication as our model as simple linear model\n",
        "# we will also need an activation function so we'll write log_softmax\n",
        "\n",
        "def log_softmax(x):\n",
        "  return x - x.exp().sum(-1).log().unsqueeze(-1)\n",
        "\n",
        "def model(xb):\n",
        "  return log_softmax(xb @ weights + bias)"
      ],
      "execution_count": 0,
      "outputs": []
    },
    {
      "metadata": {
        "id": "BYDE5Qq4ySTN",
        "colab_type": "text"
      },
      "cell_type": "markdown",
      "source": [
        "Note that our predictions won’t be any better than random at this stage, since we start with random weights."
      ]
    },
    {
      "metadata": {
        "id": "AzqGIDY6rfa4",
        "colab_type": "code",
        "colab": {
          "base_uri": "https://localhost:8080/",
          "height": 51
        },
        "outputId": "779befd3-aa19-4a13-f8d8-2e760f94db65"
      },
      "cell_type": "code",
      "source": [
        "bs = 64\n",
        "\n",
        "xb = x_train[0:bs] # a mini-batch from x\n",
        "preds = model(xb) # predictions\n",
        "preds[0], preds.shape\n",
        "print(preds[0], preds.shape)"
      ],
      "execution_count": 19,
      "outputs": [
        {
          "output_type": "stream",
          "text": [
            "tensor([-2.2263, -2.5334, -2.7187, -2.0106, -2.2259, -2.6336, -2.2709, -2.6783,\n",
            "        -1.9736, -2.1023], grad_fn=<SelectBackward>) torch.Size([64, 10])\n"
          ],
          "name": "stdout"
        }
      ]
    },
    {
      "metadata": {
        "id": "j_J042onxV34",
        "colab_type": "text"
      },
      "cell_type": "markdown",
      "source": [
        "negative `log-likelihood` to use as the loss function"
      ]
    },
    {
      "metadata": {
        "id": "cNL10VRHxMtm",
        "colab_type": "code",
        "colab": {}
      },
      "cell_type": "code",
      "source": [
        "def nll(input, target):\n",
        "  return -input[range(target.shape[0]), target].mean()\n",
        "\n",
        "loss_func = nll"
      ],
      "execution_count": 0,
      "outputs": []
    },
    {
      "metadata": {
        "id": "bDh1-PKMxrN1",
        "colab_type": "code",
        "colab": {
          "base_uri": "https://localhost:8080/",
          "height": 34
        },
        "outputId": "ec5f4981-a3bb-471b-c82a-6bfa460115dc"
      },
      "cell_type": "code",
      "source": [
        "yb = y_train[0:bs]\n",
        "print(loss_func(preds, yb))"
      ],
      "execution_count": 23,
      "outputs": [
        {
          "output_type": "stream",
          "text": [
            "tensor(2.2827, grad_fn=<NegBackward>)\n"
          ],
          "name": "stdout"
        }
      ]
    },
    {
      "metadata": {
        "id": "66Xrjn4Ux8xH",
        "colab_type": "text"
      },
      "cell_type": "markdown",
      "source": [
        "Calculate accuracy of our model"
      ]
    },
    {
      "metadata": {
        "id": "IsKk4jdjxwSM",
        "colab_type": "code",
        "colab": {}
      },
      "cell_type": "code",
      "source": [
        "def accuracy(out, yb):\n",
        "    preds = torch.argmax(out, dim=1)\n",
        "    return (preds == yb).float().mean()"
      ],
      "execution_count": 0,
      "outputs": []
    },
    {
      "metadata": {
        "id": "gpYGCbaFxy4c",
        "colab_type": "code",
        "colab": {
          "base_uri": "https://localhost:8080/",
          "height": 34
        },
        "outputId": "e99e4fdc-add9-497f-f3a4-1fb4681386d4"
      },
      "cell_type": "code",
      "source": [
        "# checking accuracy of our random model\n",
        "print(accuracy(preds, yb))"
      ],
      "execution_count": 25,
      "outputs": [
        {
          "output_type": "stream",
          "text": [
            "tensor(0.1250)\n"
          ],
          "name": "stdout"
        }
      ]
    },
    {
      "metadata": {
        "id": "09IW7F98y5Xz",
        "colab_type": "text"
      },
      "cell_type": "markdown",
      "source": [
        "#### Now we can run a training loop. For each iteration, we will:\n",
        "\n",
        "- select a mini batch of data\n",
        "- use the model to make predictions\n",
        "- calculate loss \n",
        "-  Update the gradiant(slope) of our model, in this case, weights and bias\n",
        "\n",
        "`torch.no_grad()` automatically records gradient for us"
      ]
    },
    {
      "metadata": {
        "id": "0zwtMmn7637l",
        "colab_type": "code",
        "colab": {}
      },
      "cell_type": "code",
      "source": [
        "\"\"\"\n",
        "# We will use Python standard debugger to print traces\n",
        "from IPython.core.debugger import set_trace\n",
        "\n",
        "lr = 0.5 # learning rate\n",
        "epochs = 2 # howw many epochs to train for\n",
        "\n",
        "for epoch in range(epochs):\n",
        "  for i in range((n-1) // bs + 1):  # 782\n",
        "    # set_trace()\n",
        "    start_i = i*bs\n",
        "    end_i = start_i + bs\n",
        "    xb = x_train[start_i:end_i]\n",
        "    yb = y_train[start_i:end_i]\n",
        "    pred = model(xb)\n",
        "    loss = loss_func(pred, yb)\n",
        "    \n",
        "    loss_backward()\n",
        "    with torch.no_grad():\n",
        "      weights -= weights.grad * lr\n",
        "      bias -= bias.grad * lr\n",
        "      weights.grad.zero_()\n",
        "      bias.grad.zero_()\n",
        "\"\"\""
      ],
      "execution_count": 0,
      "outputs": []
    },
    {
      "metadata": {
        "id": "JenNZp_6Rb9_",
        "colab_type": "text"
      },
      "cell_type": "markdown",
      "source": [
        "## Refactor using torch.nn.functional\n",
        "\n",
        "This contains wide range of loss and activation functions, you all create some useful functions here for creating neural nets such as pooling functions. (There are also functions for doing convolutions, linear layers, etc, but as we'll see, these are usually better handled using other parts of the library)\n",
        "\n"
      ]
    },
    {
      "metadata": {
        "id": "_rsGwY-JJ3rU",
        "colab_type": "code",
        "colab": {}
      },
      "cell_type": "code",
      "source": [
        "import torch.nn.functional as F\n",
        "\n",
        "loss_func = F.cross_entropy\n",
        "\n",
        "def model(xb):\n",
        "  return xb @ weights + bias"
      ],
      "execution_count": 0,
      "outputs": []
    },
    {
      "metadata": {
        "id": "fK76HnA9Sa1o",
        "colab_type": "code",
        "colab": {}
      },
      "cell_type": "code",
      "source": [
        "print(loss_func(model(xb), yb), accuracy(model(xb), yb))"
      ],
      "execution_count": 0,
      "outputs": []
    },
    {
      "metadata": {
        "id": "abr0V69JTFMe",
        "colab_type": "text"
      },
      "cell_type": "markdown",
      "source": [
        "## Refactor using nn.Module"
      ]
    },
    {
      "metadata": {
        "id": "seWYiFeNTECn",
        "colab_type": "code",
        "colab": {}
      },
      "cell_type": "code",
      "source": [
        "# nn.Module and nn.Parameter, for a clearer and more concise training loop. \n",
        "\n",
        "from torch import nn\n",
        "\n",
        "class Mnist_Logistic(nn.Module):\n",
        "    def __init__(self):\n",
        "        super().__init__()\n",
        "        self.weights = nn.Parameter(torch.randn(784, 10) / math.sqrt(784))\n",
        "        self.bias = nn.Parameter(torch.zeros(10))\n",
        "\n",
        "    def forward(self, xb):\n",
        "        return xb @ self.weights + self.bias"
      ],
      "execution_count": 0,
      "outputs": []
    },
    {
      "metadata": {
        "id": "jZ5MsRgrTaGd",
        "colab_type": "code",
        "colab": {}
      },
      "cell_type": "code",
      "source": [
        "model = Mnist_Logistic()"
      ],
      "execution_count": 0,
      "outputs": []
    },
    {
      "metadata": {
        "id": "TCvzOJHATcJ1",
        "colab_type": "code",
        "colab": {}
      },
      "cell_type": "code",
      "source": [
        ""
      ],
      "execution_count": 0,
      "outputs": []
    }
  ]
}